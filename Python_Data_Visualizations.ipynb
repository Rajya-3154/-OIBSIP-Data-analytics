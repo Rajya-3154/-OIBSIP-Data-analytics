{
  "metadata": {
    "kernelspec": {
      "language": "python",
      "display_name": "Python 3",
      "name": "python3"
    },
    "language_info": {
      "name": "python",
      "version": "3.10.13",
      "mimetype": "text/x-python",
      "codemirror_mode": {
        "name": "ipython",
        "version": 3
      },
      "pygments_lexer": "ipython3",
      "nbconvert_exporter": "python",
      "file_extension": ".py"
    },
    "kaggle": {
      "accelerator": "none",
      "dataSources": [
        {
          "sourceId": 420,
          "sourceType": "datasetVersion",
          "datasetId": 19
        }
      ],
      "dockerImageVersionId": 30698,
      "isInternetEnabled": false,
      "language": "python",
      "sourceType": "notebook",
      "isGpuEnabled": false
    },
    "colab": {
      "name": "Python Data Visualizations",
      "provenance": [],
      "include_colab_link": true
    }
  },
  "nbformat_minor": 0,
  "nbformat": 4,
  "cells": [
    {
      "cell_type": "markdown",
      "metadata": {
        "id": "view-in-github",
        "colab_type": "text"
      },
      "source": [
        "<a href=\"https://colab.research.google.com/github/Rajya-3154/-OIBSIP-Data-analytics/blob/main/Python_Data_Visualizations.ipynb\" target=\"_parent\"><img src=\"https://colab.research.google.com/assets/colab-badge.svg\" alt=\"Open In Colab\"/></a>"
      ]
    },
    {
      "source": [
        "\n",
        "# IMPORTANT: RUN THIS CELL IN ORDER TO IMPORT YOUR KAGGLE DATA SOURCES\n",
        "# TO THE CORRECT LOCATION (/kaggle/input) IN YOUR NOTEBOOK,\n",
        "# THEN FEEL FREE TO DELETE THIS CELL.\n",
        "# NOTE: THIS NOTEBOOK ENVIRONMENT DIFFERS FROM KAGGLE'S PYTHON\n",
        "# ENVIRONMENT SO THERE MAY BE MISSING LIBRARIES USED BY YOUR\n",
        "# NOTEBOOK.\n",
        "\n",
        "import os\n",
        "import sys\n",
        "from tempfile import NamedTemporaryFile\n",
        "from urllib.request import urlopen\n",
        "from urllib.parse import unquote, urlparse\n",
        "from urllib.error import HTTPError\n",
        "from zipfile import ZipFile\n",
        "import tarfile\n",
        "import shutil\n",
        "\n",
        "CHUNK_SIZE = 40960\n",
        "DATA_SOURCE_MAPPING = ':https%3A%2F%2Fstorage.googleapis.com%2Fkaggle-data-sets%2F19%2F420%2Fbundle%2Farchive.zip%3FX-Goog-Algorithm%3DGOOG4-RSA-SHA256%26X-Goog-Credential%3Dgcp-kaggle-com%2540kaggle-161607.iam.gserviceaccount.com%252F20240520%252Fauto%252Fstorage%252Fgoog4_request%26X-Goog-Date%3D20240520T135619Z%26X-Goog-Expires%3D259200%26X-Goog-SignedHeaders%3Dhost%26X-Goog-Signature%3D796471241f80510a06071a23604296b20a2e60018d0d386355466450d06664f48e888505435bc04d1989027066369f5120cb893119382fda73928d596ec8ac117c6e14512186a09de0754807b8bcd9da793a65b24f2e47c0c4715faf309f2afb1966803779e40dd630211c802b8cb62b036d0604c172056eb1d8b4e6ade05ff1b61138b4f805d08021758e4778ea3ad84e9faeb714b9f0c0ae567842ddc1335937852a40452279cfda82a23fafeedb3c160a1429f52867e22342f234e88a9ed0b892e37a523dc5b1c82f2de7897a95d65972d1af1d3afd7d3548db4927e6c1f8c7cb4214ff823d75da5be5b4504d77ab7b0adb52ca4b7e316c14c7abd56e9bbb'\n",
        "\n",
        "KAGGLE_INPUT_PATH='/kaggle/input'\n",
        "KAGGLE_WORKING_PATH='/kaggle/working'\n",
        "KAGGLE_SYMLINK='kaggle'\n",
        "\n",
        "!umount /kaggle/input/ 2> /dev/null\n",
        "shutil.rmtree('/kaggle/input', ignore_errors=True)\n",
        "os.makedirs(KAGGLE_INPUT_PATH, 0o777, exist_ok=True)\n",
        "os.makedirs(KAGGLE_WORKING_PATH, 0o777, exist_ok=True)\n",
        "\n",
        "try:\n",
        "  os.symlink(KAGGLE_INPUT_PATH, os.path.join(\"..\", 'input'), target_is_directory=True)\n",
        "except FileExistsError:\n",
        "  pass\n",
        "try:\n",
        "  os.symlink(KAGGLE_WORKING_PATH, os.path.join(\"..\", 'working'), target_is_directory=True)\n",
        "except FileExistsError:\n",
        "  pass\n",
        "\n",
        "for data_source_mapping in DATA_SOURCE_MAPPING.split(','):\n",
        "    directory, download_url_encoded = data_source_mapping.split(':')\n",
        "    download_url = unquote(download_url_encoded)\n",
        "    filename = urlparse(download_url).path\n",
        "    destination_path = os.path.join(KAGGLE_INPUT_PATH, directory)\n",
        "    try:\n",
        "        with urlopen(download_url) as fileres, NamedTemporaryFile() as tfile:\n",
        "            total_length = fileres.headers['content-length']\n",
        "            print(f'Downloading {directory}, {total_length} bytes compressed')\n",
        "            dl = 0\n",
        "            data = fileres.read(CHUNK_SIZE)\n",
        "            while len(data) > 0:\n",
        "                dl += len(data)\n",
        "                tfile.write(data)\n",
        "                done = int(50 * dl / int(total_length))\n",
        "                sys.stdout.write(f\"\\r[{'=' * done}{' ' * (50-done)}] {dl} bytes downloaded\")\n",
        "                sys.stdout.flush()\n",
        "                data = fileres.read(CHUNK_SIZE)\n",
        "            if filename.endswith('.zip'):\n",
        "              with ZipFile(tfile) as zfile:\n",
        "                zfile.extractall(destination_path)\n",
        "            else:\n",
        "              with tarfile.open(tfile.name) as tarfile:\n",
        "                tarfile.extractall(destination_path)\n",
        "            print(f'\\nDownloaded and uncompressed: {directory}')\n",
        "    except HTTPError as e:\n",
        "        print(f'Failed to load (likely expired) {download_url} to path {destination_path}')\n",
        "        continue\n",
        "    except OSError as e:\n",
        "        print(f'Failed to load {download_url} to path {destination_path}')\n",
        "        continue\n",
        "\n",
        "print('Data source import complete.')\n"
      ],
      "metadata": {
        "id": "LbhTmDbdShYL",
        "outputId": "8b75d2c9-3bb8-4cec-f91a-de5b082cf5e7",
        "colab": {
          "base_uri": "https://localhost:8080/"
        }
      },
      "cell_type": "code",
      "outputs": [
        {
          "output_type": "stream",
          "name": "stdout",
          "text": [
            "Downloading , 3687 bytes compressed\n",
            "\r[==================================================] 3687 bytes downloaded\n",
            "Downloaded and uncompressed: \n",
            "Data source import complete.\n"
          ]
        }
      ],
      "execution_count": 1
    },
    {
      "cell_type": "markdown",
      "source": [
        "## Python data visualizations on the Iris dataset\n",
        "\n",
        "Forked from Ben Hamner (https://www.kaggle.com/code/benhamner/python-data-visualizations) and edited.\n",
        "\n",
        "Libraries used: [pandas](http://pandas.pydata.org/), [matplotlib](http://matplotlib.org/), and [seaborn](http://stanford.edu/~mwaskom/software/seaborn/)."
      ],
      "metadata": {
        "_cell_guid": "e748dd89-de20-44f2-a122-b2bb69fbab24",
        "_uuid": "a42ede279bffeecdddd64047e06fee4b9aed50c5",
        "id": "Rse7jrcXShYO"
      }
    },
    {
      "cell_type": "code",
      "source": [
        "import pandas as pd\n",
        "import seaborn as sns\n",
        "import warnings # the current version of seaborn generates a warnings that we'll ignore\n",
        "warnings.filterwarnings(\"ignore\")\n",
        "import matplotlib.pyplot as plt\n",
        "sns.set(style=\"white\", color_codes=True)\n",
        "\n",
        "iris = pd.read_csv(\"../input/Iris.csv\")  # loads the Iris dataset as a pandas dataframe\n",
        "iris.head()  # shows the first few rows of our data"
      ],
      "metadata": {
        "_cell_guid": "136008bf-b756-49c1-bc5e-81c1247b969d",
        "_uuid": "4a72555be32be45a318141821b58ceac28ffb0d7",
        "execution": {
          "iopub.status.busy": "2024-05-17T15:33:38.39118Z",
          "iopub.execute_input": "2024-05-17T15:33:38.392213Z",
          "iopub.status.idle": "2024-05-17T15:33:39.543608Z",
          "shell.execute_reply.started": "2024-05-17T15:33:38.392172Z",
          "shell.execute_reply": "2024-05-17T15:33:39.5425Z"
        },
        "trusted": true,
        "id": "209evdaQShYP"
      },
      "execution_count": null,
      "outputs": []
    },
    {
      "cell_type": "code",
      "source": [
        "iris[\"Species\"].value_counts()  # count of each iris species"
      ],
      "metadata": {
        "_cell_guid": "5dba36af-1bb8-49e5-9b49-1451f4136246",
        "_uuid": "ef33a54d1e704924d1eb29632728011d31bfb543",
        "execution": {
          "iopub.status.busy": "2024-05-17T18:58:41.9218Z",
          "iopub.execute_input": "2024-05-17T18:58:41.922268Z",
          "iopub.status.idle": "2024-05-17T18:58:41.932239Z",
          "shell.execute_reply.started": "2024-05-17T18:58:41.922234Z",
          "shell.execute_reply": "2024-05-17T18:58:41.930998Z"
        },
        "trusted": true,
        "id": "1pu_8Qu1ShYQ"
      },
      "execution_count": null,
      "outputs": []
    },
    {
      "cell_type": "code",
      "source": [
        "iris.describe()"
      ],
      "metadata": {
        "execution": {
          "iopub.status.busy": "2024-05-17T19:00:32.269126Z",
          "iopub.execute_input": "2024-05-17T19:00:32.269529Z",
          "iopub.status.idle": "2024-05-17T19:00:32.300643Z",
          "shell.execute_reply.started": "2024-05-17T19:00:32.269498Z",
          "shell.execute_reply": "2024-05-17T19:00:32.299444Z"
        },
        "trusted": true,
        "id": "d9Z--UB5ShYR"
      },
      "execution_count": null,
      "outputs": []
    },
    {
      "cell_type": "code",
      "source": [
        "iris.shape"
      ],
      "metadata": {
        "execution": {
          "iopub.status.busy": "2024-05-17T19:00:16.498711Z",
          "iopub.execute_input": "2024-05-17T19:00:16.499153Z",
          "iopub.status.idle": "2024-05-17T19:00:16.5059Z",
          "shell.execute_reply.started": "2024-05-17T19:00:16.499119Z",
          "shell.execute_reply": "2024-05-17T19:00:16.504773Z"
        },
        "trusted": true,
        "id": "Y7Gc3wMXShYR"
      },
      "execution_count": null,
      "outputs": []
    },
    {
      "cell_type": "code",
      "source": [
        "iris[iris['SepalLengthCm']>7]  # filter data based on specific parameters"
      ],
      "metadata": {
        "execution": {
          "iopub.status.busy": "2024-05-17T19:03:46.284702Z",
          "iopub.execute_input": "2024-05-17T19:03:46.285128Z",
          "iopub.status.idle": "2024-05-17T19:03:46.305149Z",
          "shell.execute_reply.started": "2024-05-17T19:03:46.285087Z",
          "shell.execute_reply": "2024-05-17T19:03:46.303906Z"
        },
        "trusted": true,
        "id": "GNnM1lpAShYR"
      },
      "execution_count": null,
      "outputs": []
    },
    {
      "cell_type": "code",
      "source": [
        "iris.plot(kind=\"scatter\", x=\"SepalLengthCm\", y=\"SepalWidthCm\")  # scatterplot of iris features (with pandas library)"
      ],
      "metadata": {
        "_cell_guid": "b8588972-deb5-4094-99a6-5feb722e3301",
        "_uuid": "b61dbe844a638b1b26e0c3f16a104570d4b60010",
        "execution": {
          "iopub.status.busy": "2024-05-17T15:39:35.874939Z",
          "iopub.execute_input": "2024-05-17T15:39:35.875999Z",
          "iopub.status.idle": "2024-05-17T15:39:36.298703Z",
          "shell.execute_reply.started": "2024-05-17T15:39:35.875954Z",
          "shell.execute_reply": "2024-05-17T15:39:36.297372Z"
        },
        "trusted": true,
        "id": "FCzFQIBFShYS"
      },
      "execution_count": null,
      "outputs": []
    },
    {
      "cell_type": "code",
      "source": [
        "sns.jointplot(x=\"SepalLengthCm\", y=\"SepalWidthCm\", data=iris, size=8)  # joint scatterplot and histogram of iris features (using seaborn)"
      ],
      "metadata": {
        "_cell_guid": "dc213965-5341-4ce7-ad13-42eb5e2fa1e7",
        "_uuid": "81da4a44d4ec41f5c7acd172c75df2f47884a13e",
        "execution": {
          "iopub.status.busy": "2024-05-17T15:41:30.700022Z",
          "iopub.execute_input": "2024-05-17T15:41:30.700462Z",
          "iopub.status.idle": "2024-05-17T15:41:31.76106Z",
          "shell.execute_reply.started": "2024-05-17T15:41:30.70043Z",
          "shell.execute_reply": "2024-05-17T15:41:31.759916Z"
        },
        "trusted": true,
        "id": "nCSU8v5aShYS"
      },
      "execution_count": null,
      "outputs": []
    },
    {
      "cell_type": "code",
      "source": [
        "sns.jointplot(x=\"PetalLengthCm\", y=\"PetalWidthCm\", data=iris, size=8)  # joint scatterplot and histogram of iris features (using seaborn)"
      ],
      "metadata": {
        "execution": {
          "iopub.status.busy": "2024-05-17T17:52:49.968829Z",
          "iopub.execute_input": "2024-05-17T17:52:49.969648Z",
          "iopub.status.idle": "2024-05-17T17:52:51.079229Z",
          "shell.execute_reply.started": "2024-05-17T17:52:49.969594Z",
          "shell.execute_reply": "2024-05-17T17:52:51.078074Z"
        },
        "trusted": true,
        "id": "3tOyzHKSShYT"
      },
      "execution_count": null,
      "outputs": []
    },
    {
      "cell_type": "code",
      "source": [
        "sns.FacetGrid(iris, hue=\"Species\", palette=\"pastel\", legend_out=True) \\\n",
        "   .map(plt.scatter, \"SepalLengthCm\", \"SepalWidthCm\") \\\n",
        "   .add_legend()\n",
        "#  FacetGrid allows us to colour the scatterplot by species; we can choose the colours (https://seaborn.pydata.org/generated/seaborn.color_palette.html#seaborn.color_palette)"
      ],
      "metadata": {
        "_cell_guid": "0a5c46f6-be6e-4ef6-94a4-9bea13c9a0aa",
        "_uuid": "d07401f715fa8f39951a6212bce668657d457fe1",
        "execution": {
          "iopub.status.busy": "2024-05-17T15:49:57.855273Z",
          "iopub.execute_input": "2024-05-17T15:49:57.855707Z",
          "iopub.status.idle": "2024-05-17T15:49:58.659319Z",
          "shell.execute_reply.started": "2024-05-17T15:49:57.855677Z",
          "shell.execute_reply": "2024-05-17T15:49:58.658244Z"
        },
        "trusted": true,
        "id": "HMq1CiNdShYT"
      },
      "execution_count": null,
      "outputs": []
    },
    {
      "cell_type": "code",
      "source": [
        "# boxplot of features\n",
        "sns.boxplot(x=\"Species\", y=\"PetalLengthCm\", data=iris, palette='pastel', saturation=0.70, linewidth=1.3, fliersize=1.3)"
      ],
      "metadata": {
        "_cell_guid": "128245d5-6f01-44cd-8b2f-8a49735ac552",
        "_uuid": "01cb1b0849f6c7e800c8798164741a8fdae53617",
        "execution": {
          "iopub.status.busy": "2024-05-17T15:59:03.995603Z",
          "iopub.execute_input": "2024-05-17T15:59:03.996016Z",
          "iopub.status.idle": "2024-05-17T15:59:04.311428Z",
          "shell.execute_reply.started": "2024-05-17T15:59:03.995983Z",
          "shell.execute_reply": "2024-05-17T15:59:04.310337Z"
        },
        "trusted": true,
        "id": "8d-N2aroShYT"
      },
      "execution_count": null,
      "outputs": []
    },
    {
      "cell_type": "code",
      "source": [
        "sns.boxplot(x=\"Species\", y=\"PetalWidthCm\", data=iris, palette='pastel', saturation=0.70, linewidth=1.3, fliersize=1.3)"
      ],
      "metadata": {
        "execution": {
          "iopub.status.busy": "2024-05-17T15:59:50.94647Z",
          "iopub.execute_input": "2024-05-17T15:59:50.947778Z",
          "iopub.status.idle": "2024-05-17T15:59:51.265244Z",
          "shell.execute_reply.started": "2024-05-17T15:59:50.947735Z",
          "shell.execute_reply": "2024-05-17T15:59:51.26411Z"
        },
        "trusted": true,
        "id": "dpf1863WShYU"
      },
      "execution_count": null,
      "outputs": []
    },
    {
      "cell_type": "code",
      "source": [
        "sns.boxplot(x=\"Species\", y=\"SepalLengthCm\", data=iris, palette='pastel', saturation=0.70, linewidth=1.3, fliersize=1.3)"
      ],
      "metadata": {
        "execution": {
          "iopub.status.busy": "2024-05-17T16:00:06.70916Z",
          "iopub.execute_input": "2024-05-17T16:00:06.709548Z",
          "iopub.status.idle": "2024-05-17T16:00:07.035924Z",
          "shell.execute_reply.started": "2024-05-17T16:00:06.709521Z",
          "shell.execute_reply": "2024-05-17T16:00:07.034752Z"
        },
        "trusted": true,
        "id": "4S_rmnNXShYU"
      },
      "execution_count": null,
      "outputs": []
    },
    {
      "cell_type": "code",
      "source": [
        "sns.boxplot(x=\"Species\", y=\"SepalWidthCm\", data=iris, palette='pastel', saturation=0.70, linewidth=1.3, fliersize=1.3)"
      ],
      "metadata": {
        "execution": {
          "iopub.status.busy": "2024-05-17T16:00:23.959563Z",
          "iopub.execute_input": "2024-05-17T16:00:23.96001Z",
          "iopub.status.idle": "2024-05-17T16:00:24.308025Z",
          "shell.execute_reply.started": "2024-05-17T16:00:23.959976Z",
          "shell.execute_reply": "2024-05-17T16:00:24.306796Z"
        },
        "trusted": true,
        "id": "kAq1Po0CShYU"
      },
      "execution_count": null,
      "outputs": []
    },
    {
      "cell_type": "code",
      "source": [
        "# adding individual points to the boxplot\n",
        "# jitter=True makes sure the points don't fall in single vertical lines\n",
        "# Save the plot in the same variable each time so the resulting plot is on top of the previous plot\n",
        "p1 = sns.boxplot(x=\"Species\", y=\"PetalLengthCm\", data=iris, palette='pastel', saturation=0.70, linewidth=1.3, fliersize=1.3)\n",
        "p1 = sns.stripplot(x=\"Species\", y=\"PetalLengthCm\", data=iris, jitter=True, palette='deep', size=5, edgecolor=\"black\")"
      ],
      "metadata": {
        "_cell_guid": "b86a675c-f604-496a-931a-df76d7d6aaa1",
        "_uuid": "a481595c1e46d625e887b61f5eb0e3c48269bde9",
        "execution": {
          "iopub.status.busy": "2024-05-17T16:09:52.824158Z",
          "iopub.execute_input": "2024-05-17T16:09:52.825285Z",
          "iopub.status.idle": "2024-05-17T16:09:53.196742Z",
          "shell.execute_reply.started": "2024-05-17T16:09:52.825245Z",
          "shell.execute_reply": "2024-05-17T16:09:53.195556Z"
        },
        "trusted": true,
        "id": "PtCxupU7ShYU"
      },
      "execution_count": null,
      "outputs": []
    },
    {
      "cell_type": "code",
      "source": [
        "p1 = sns.boxplot(x=\"Species\", y=\"PetalWidthCm\", data=iris, palette='pastel', saturation=0.70, linewidth=1.3, fliersize=1.3)\n",
        "p1 = sns.stripplot(x=\"Species\", y=\"PetalWidthCm\", data=iris, jitter=True, palette='deep', size=5, edgecolor=\"black\")"
      ],
      "metadata": {
        "execution": {
          "iopub.status.busy": "2024-05-17T16:10:13.618546Z",
          "iopub.execute_input": "2024-05-17T16:10:13.618953Z",
          "iopub.status.idle": "2024-05-17T16:10:13.964132Z",
          "shell.execute_reply.started": "2024-05-17T16:10:13.618922Z",
          "shell.execute_reply": "2024-05-17T16:10:13.963036Z"
        },
        "trusted": true,
        "id": "YdPRFovXShYU"
      },
      "execution_count": null,
      "outputs": []
    },
    {
      "cell_type": "code",
      "source": [
        "p1 = sns.boxplot(x=\"Species\", y=\"SepalLengthCm\", data=iris, palette='pastel', saturation=0.70, linewidth=1.3, fliersize=1.3)\n",
        "p1 = sns.stripplot(x=\"Species\", y=\"SepalLengthCm\", data=iris, jitter=True, palette='deep', size=5, edgecolor=\"black\")"
      ],
      "metadata": {
        "execution": {
          "iopub.status.busy": "2024-05-17T16:10:43.968687Z",
          "iopub.execute_input": "2024-05-17T16:10:43.969121Z",
          "iopub.status.idle": "2024-05-17T16:10:44.278147Z",
          "shell.execute_reply.started": "2024-05-17T16:10:43.969082Z",
          "shell.execute_reply": "2024-05-17T16:10:44.27697Z"
        },
        "trusted": true,
        "id": "2VY4GhWtShYU"
      },
      "execution_count": null,
      "outputs": []
    },
    {
      "cell_type": "code",
      "source": [
        "p1 = sns.boxplot(x=\"Species\", y=\"SepalWidthCm\", data=iris, palette='pastel', saturation=0.70, linewidth=1.3, fliersize=1.3)\n",
        "p1 = sns.stripplot(x=\"Species\", y=\"SepalWidthCm\", data=iris, jitter=True, palette='deep', size=5, edgecolor=\"black\")"
      ],
      "metadata": {
        "execution": {
          "iopub.status.busy": "2024-05-17T16:11:10.467822Z",
          "iopub.execute_input": "2024-05-17T16:11:10.468278Z",
          "iopub.status.idle": "2024-05-17T16:11:10.764641Z",
          "shell.execute_reply.started": "2024-05-17T16:11:10.468243Z",
          "shell.execute_reply": "2024-05-17T16:11:10.763426Z"
        },
        "trusted": true,
        "id": "nkSlya1vShYU"
      },
      "execution_count": null,
      "outputs": []
    },
    {
      "cell_type": "code",
      "source": [
        "# swarm plot of features\n",
        "sns.swarmplot(data=iris, x=\"Species\", y=\"PetalLengthCm\", palette='pastel', size=7)"
      ],
      "metadata": {
        "execution": {
          "iopub.status.busy": "2024-05-17T18:00:42.530624Z",
          "iopub.execute_input": "2024-05-17T18:00:42.531893Z",
          "iopub.status.idle": "2024-05-17T18:00:43.470408Z",
          "shell.execute_reply.started": "2024-05-17T18:00:42.531841Z",
          "shell.execute_reply": "2024-05-17T18:00:43.4689Z"
        },
        "trusted": true,
        "id": "0tMqqCJ_ShYU"
      },
      "execution_count": null,
      "outputs": []
    },
    {
      "cell_type": "code",
      "source": [
        "sns.swarmplot(data=iris, x=\"Species\", y=\"PetalWidthCm\", palette='pastel', size=7)"
      ],
      "metadata": {
        "execution": {
          "iopub.status.busy": "2024-05-17T18:03:32.981872Z",
          "iopub.execute_input": "2024-05-17T18:03:32.982345Z",
          "iopub.status.idle": "2024-05-17T18:03:33.866945Z",
          "shell.execute_reply.started": "2024-05-17T18:03:32.982311Z",
          "shell.execute_reply": "2024-05-17T18:03:33.865826Z"
        },
        "trusted": true,
        "id": "L0R7qsZuShYV"
      },
      "execution_count": null,
      "outputs": []
    },
    {
      "cell_type": "code",
      "source": [
        "sns.swarmplot(data=iris, x=\"Species\", y=\"SepalLengthCm\", palette='pastel', size=7)"
      ],
      "metadata": {
        "execution": {
          "iopub.status.busy": "2024-05-17T18:03:44.984353Z",
          "iopub.execute_input": "2024-05-17T18:03:44.984741Z",
          "iopub.status.idle": "2024-05-17T18:03:45.830102Z",
          "shell.execute_reply.started": "2024-05-17T18:03:44.984712Z",
          "shell.execute_reply": "2024-05-17T18:03:45.828809Z"
        },
        "trusted": true,
        "id": "Cr2Z8V0CShYV"
      },
      "execution_count": null,
      "outputs": []
    },
    {
      "cell_type": "code",
      "source": [
        "sns.swarmplot(data=iris, x=\"Species\", y=\"SepalWidthCm\", palette='pastel', size=7)"
      ],
      "metadata": {
        "execution": {
          "iopub.status.busy": "2024-05-17T18:03:59.459802Z",
          "iopub.execute_input": "2024-05-17T18:03:59.460313Z",
          "iopub.status.idle": "2024-05-17T18:04:00.18224Z",
          "shell.execute_reply.started": "2024-05-17T18:03:59.460279Z",
          "shell.execute_reply": "2024-05-17T18:04:00.181105Z"
        },
        "trusted": true,
        "id": "hCXz1tC-ShYV"
      },
      "execution_count": null,
      "outputs": []
    },
    {
      "cell_type": "code",
      "source": [
        "# violin plot of features\n",
        "sns.violinplot(x=\"Species\", y=\"PetalLengthCm\", data=iris, size=8, palette='pastel', saturation=0.75, linewidth=1.5)"
      ],
      "metadata": {
        "_cell_guid": "c49f199b-2798-4fdc-87a7-bd2f7f8ff447",
        "_uuid": "0d422fc672f3cfb30ec02d1345942cc583c51b05",
        "execution": {
          "iopub.status.busy": "2024-05-17T16:58:45.297048Z",
          "iopub.execute_input": "2024-05-17T16:58:45.298272Z",
          "iopub.status.idle": "2024-05-17T16:58:45.735978Z",
          "shell.execute_reply.started": "2024-05-17T16:58:45.298229Z",
          "shell.execute_reply": "2024-05-17T16:58:45.734001Z"
        },
        "trusted": true,
        "id": "zqOEGmCOShYV"
      },
      "execution_count": null,
      "outputs": []
    },
    {
      "cell_type": "code",
      "source": [
        "sns.violinplot(x=\"Species\", y=\"PetalWidthCm\", data=iris, size=8, palette='pastel', saturation=0.75, linewidth=1.5)"
      ],
      "metadata": {
        "execution": {
          "iopub.status.busy": "2024-05-17T17:01:09.527679Z",
          "iopub.execute_input": "2024-05-17T17:01:09.528146Z",
          "iopub.status.idle": "2024-05-17T17:01:09.938328Z",
          "shell.execute_reply.started": "2024-05-17T17:01:09.528111Z",
          "shell.execute_reply": "2024-05-17T17:01:09.937222Z"
        },
        "trusted": true,
        "id": "vRtT9ACYShYV"
      },
      "execution_count": null,
      "outputs": []
    },
    {
      "cell_type": "code",
      "source": [
        "sns.violinplot(x=\"Species\", y=\"SepalLengthCm\", data=iris, size=8, palette='pastel', saturation=0.75, linewidth=1.5)"
      ],
      "metadata": {
        "execution": {
          "iopub.status.busy": "2024-05-17T17:01:22.842708Z",
          "iopub.execute_input": "2024-05-17T17:01:22.843587Z",
          "iopub.status.idle": "2024-05-17T17:01:23.242649Z",
          "shell.execute_reply.started": "2024-05-17T17:01:22.843548Z",
          "shell.execute_reply": "2024-05-17T17:01:23.241553Z"
        },
        "trusted": true,
        "id": "4SWJuHUyShYV"
      },
      "execution_count": null,
      "outputs": []
    },
    {
      "cell_type": "code",
      "source": [
        "sns.violinplot(x=\"Species\", y=\"SepalWidthCm\", data=iris, size=8, palette='pastel', saturation=0.75, linewidth=1.5)"
      ],
      "metadata": {
        "execution": {
          "iopub.status.busy": "2024-05-17T17:04:53.358872Z",
          "iopub.execute_input": "2024-05-17T17:04:53.359285Z",
          "iopub.status.idle": "2024-05-17T17:04:53.709356Z",
          "shell.execute_reply.started": "2024-05-17T17:04:53.359254Z",
          "shell.execute_reply": "2024-05-17T17:04:53.708109Z"
        },
        "trusted": true,
        "id": "i8Jbso4eShYV"
      },
      "execution_count": null,
      "outputs": []
    },
    {
      "cell_type": "code",
      "source": [
        "# kernel desnity estimate plot of features\n",
        "sns.FacetGrid(iris, hue=\"Species\", palette='pastel') \\\n",
        "   .map(sns.kdeplot, \"PetalLengthCm\") \\\n",
        "   .add_legend()"
      ],
      "metadata": {
        "_cell_guid": "78c32fc8-3c36-482a-81f4-14d4b6ee1430",
        "_uuid": "b10aa16c47bdad1964d1746281564f68a5ab741e",
        "execution": {
          "iopub.status.busy": "2024-05-17T17:20:26.488471Z",
          "iopub.execute_input": "2024-05-17T17:20:26.489314Z",
          "iopub.status.idle": "2024-05-17T17:20:27.202232Z",
          "shell.execute_reply.started": "2024-05-17T17:20:26.489273Z",
          "shell.execute_reply": "2024-05-17T17:20:27.201078Z"
        },
        "trusted": true,
        "id": "i8Wk7csOShYV"
      },
      "execution_count": null,
      "outputs": []
    },
    {
      "cell_type": "code",
      "source": [
        "sns.kdeplot(data=iris, x='PetalLengthCm', hue='Species', fill=True, palette=\"pastel\", linewidth=2)"
      ],
      "metadata": {
        "execution": {
          "iopub.status.busy": "2024-05-17T17:38:18.192608Z",
          "iopub.execute_input": "2024-05-17T17:38:18.193019Z",
          "iopub.status.idle": "2024-05-17T17:38:19.093636Z",
          "shell.execute_reply.started": "2024-05-17T17:38:18.192986Z",
          "shell.execute_reply": "2024-05-17T17:38:19.092344Z"
        },
        "trusted": true,
        "id": "uNnGa0SVShYV"
      },
      "execution_count": null,
      "outputs": []
    },
    {
      "cell_type": "code",
      "source": [
        "sns.kdeplot(data=iris, x='PetalWidthCm', hue='Species', fill=True, palette=\"pastel\", linewidth=2)"
      ],
      "metadata": {
        "execution": {
          "iopub.status.busy": "2024-05-17T17:38:51.460754Z",
          "iopub.execute_input": "2024-05-17T17:38:51.461201Z",
          "iopub.status.idle": "2024-05-17T17:38:51.973351Z",
          "shell.execute_reply.started": "2024-05-17T17:38:51.461166Z",
          "shell.execute_reply": "2024-05-17T17:38:51.972229Z"
        },
        "trusted": true,
        "id": "I6Au8IBlShYV"
      },
      "execution_count": null,
      "outputs": []
    },
    {
      "cell_type": "code",
      "source": [
        "sns.kdeplot(data=iris, x='SepalLengthCm', hue='Species', fill=True, palette=\"pastel\", linewidth=2)"
      ],
      "metadata": {
        "execution": {
          "iopub.status.busy": "2024-05-17T17:39:04.562722Z",
          "iopub.execute_input": "2024-05-17T17:39:04.563148Z",
          "iopub.status.idle": "2024-05-17T17:39:05.085571Z",
          "shell.execute_reply.started": "2024-05-17T17:39:04.56311Z",
          "shell.execute_reply": "2024-05-17T17:39:05.084422Z"
        },
        "trusted": true,
        "id": "8kRlVFWSShYV"
      },
      "execution_count": null,
      "outputs": []
    },
    {
      "cell_type": "code",
      "source": [
        "sns.kdeplot(data=iris, x='SepalWidthCm', hue='Species', fill=True, palette=\"pastel\", linewidth=2)"
      ],
      "metadata": {
        "execution": {
          "iopub.status.busy": "2024-05-17T17:39:20.192989Z",
          "iopub.execute_input": "2024-05-17T17:39:20.193449Z",
          "iopub.status.idle": "2024-05-17T17:39:20.735501Z",
          "shell.execute_reply.started": "2024-05-17T17:39:20.193415Z",
          "shell.execute_reply": "2024-05-17T17:39:20.734395Z"
        },
        "trusted": true,
        "id": "SlFaYJlpShYW"
      },
      "execution_count": null,
      "outputs": []
    },
    {
      "cell_type": "code",
      "source": [
        "# pairplot shows the bivariate relation between each pair of features\n",
        "sns.pairplot(iris.drop(\"Id\", axis=1), hue=\"Species\", size=3, palette='pastel', diag_kind=\"kde\")\n",
        "\n",
        "# Assigning a hue variable adds a semantic mapping & changes the default plot to a layered KDE\n",
        "# Iris-setosa is separataed from the other species across all feature combinations"
      ],
      "metadata": {
        "_cell_guid": "7351999e-4522-451f-b3f1-0031c3a88eaa",
        "_uuid": "fb9e2f61bf81478f21489f1219358e2b6fa164dd",
        "execution": {
          "iopub.status.busy": "2024-05-17T17:47:37.143861Z",
          "iopub.execute_input": "2024-05-17T17:47:37.144743Z",
          "iopub.status.idle": "2024-05-17T17:47:46.81573Z",
          "shell.execute_reply.started": "2024-05-17T17:47:37.144707Z",
          "shell.execute_reply": "2024-05-17T17:47:46.814438Z"
        },
        "trusted": true,
        "id": "3y7t219IShYW"
      },
      "execution_count": null,
      "outputs": []
    },
    {
      "cell_type": "code",
      "source": [
        "# boxplot grouped by features across species using pandas\n",
        "iris.drop(\"Id\", axis=1).boxplot(by=\"Species\", fontsize=8, figsize=(8,5), layout=(2,2), return_type=None)\n",
        "\n",
        "# 'drop' excludes specified columns or rows"
      ],
      "metadata": {
        "_cell_guid": "46cceec5-3525-4b02-8ab7-5ed1420cd198",
        "_uuid": "d7fb122f77031cc79ab0e922608d9e6c5de774ca",
        "execution": {
          "iopub.status.busy": "2024-05-17T18:16:05.592514Z",
          "iopub.execute_input": "2024-05-17T18:16:05.593119Z",
          "iopub.status.idle": "2024-05-17T18:16:07.30144Z",
          "shell.execute_reply.started": "2024-05-17T18:16:05.593072Z",
          "shell.execute_reply": "2024-05-17T18:16:07.300139Z"
        },
        "trusted": true,
        "id": "LBGi5rVbShYW"
      },
      "execution_count": null,
      "outputs": []
    },
    {
      "cell_type": "code",
      "source": [
        "# Andrews curves (multivariate) are a way to visualize data with many features by turning each data point into a curve on a simple 2D graph\n",
        "# The curves allow us to see patterns, clusters, or outliers in the data\n",
        "# Similar items will have similar-looking curves, making it easier to spot relationships and differences within the data\n",
        "from pandas.plotting import andrews_curves\n",
        "andrews_curves(iris.drop(\"Id\", axis=1), \"Species\", colormap='Dark2')\n",
        "\n",
        "#colormaps - https://matplotlib.org/stable/users/explain/colors/colormaps.html"
      ],
      "metadata": {
        "_cell_guid": "5bbed28c-d813-41c4-824d-7038fbfee6ea",
        "_uuid": "61c76e99340b06c8020151ae4b8942e1daa8b1ef",
        "execution": {
          "iopub.status.busy": "2024-05-17T18:32:30.976804Z",
          "iopub.execute_input": "2024-05-17T18:32:30.977262Z",
          "iopub.status.idle": "2024-05-17T18:32:31.712273Z",
          "shell.execute_reply.started": "2024-05-17T18:32:30.977225Z",
          "shell.execute_reply": "2024-05-17T18:32:31.710913Z"
        },
        "trusted": true,
        "id": "S0NBmS-3ShYW"
      },
      "execution_count": null,
      "outputs": []
    },
    {
      "cell_type": "code",
      "source": [
        "# Parallel coordinates (multivariate) plots each feature on a separate column & then draws lines connecting the features for each data sample\n",
        "# By looking at the lines, we see patterns and relationships between different features\n",
        "# Similar data points will have lines that follow similar paths, helping identify clusters, trends, and outliers in the data\n",
        "from pandas.plotting import parallel_coordinates\n",
        "parallel_coordinates(iris.drop(\"Id\", axis=1), \"Species\", colormap='Dark2')"
      ],
      "metadata": {
        "_cell_guid": "77c1b6f0-7632-4d61-bf03-7b5d6856b987",
        "_uuid": "b9ac80fdd71c270c9991d34ca87f70d6b00b2192",
        "execution": {
          "iopub.status.busy": "2024-05-17T18:40:09.121185Z",
          "iopub.execute_input": "2024-05-17T18:40:09.12156Z",
          "iopub.status.idle": "2024-05-17T18:40:09.655704Z",
          "shell.execute_reply.started": "2024-05-17T18:40:09.121533Z",
          "shell.execute_reply": "2024-05-17T18:40:09.654457Z"
        },
        "trusted": true,
        "id": "rLrwgY6JShYW"
      },
      "execution_count": null,
      "outputs": []
    },
    {
      "cell_type": "code",
      "source": [
        "# Radical visualization (multivariate) puts each feature as a point on a circular layout\n",
        "# and then simulates having each sample attached to those points through a spring weighted by the relative value for that feature\n",
        "from pandas.plotting import radviz\n",
        "radviz(iris.drop(\"Id\", axis=1), \"Species\", colormap='Dark2')"
      ],
      "metadata": {
        "_cell_guid": "d5c6314f-7b36-41ce-b0bd-e2ef17941f97",
        "_uuid": "38b7de27f1f882347de21193d93bf474f96c2288",
        "execution": {
          "iopub.status.busy": "2024-05-17T18:45:15.365912Z",
          "iopub.execute_input": "2024-05-17T18:45:15.366342Z",
          "iopub.status.idle": "2024-05-17T18:45:15.99239Z",
          "shell.execute_reply.started": "2024-05-17T18:45:15.366312Z",
          "shell.execute_reply": "2024-05-17T18:45:15.991375Z"
        },
        "trusted": true,
        "id": "oqE7eMBAShYW"
      },
      "execution_count": null,
      "outputs": []
    }
  ]
}